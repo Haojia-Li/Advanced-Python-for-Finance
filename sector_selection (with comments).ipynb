{
 "cells": [
  {
   "cell_type": "code",
   "execution_count": 29,
   "metadata": {},
   "outputs": [
    {
     "name": "stderr",
     "output_type": "stream",
     "text": [
      "D:\\Anaconda3\\lib\\importlib\\_bootstrap.py:219: RuntimeWarning: numpy.ufunc size changed, may indicate binary incompatibility. Expected 192 from C header, got 216 from PyObject\n",
      "  return f(*args, **kwds)\n",
      "D:\\Anaconda3\\lib\\importlib\\_bootstrap.py:219: RuntimeWarning: numpy.ufunc size changed, may indicate binary incompatibility. Expected 192 from C header, got 216 from PyObject\n",
      "  return f(*args, **kwds)\n",
      "D:\\Anaconda3\\lib\\importlib\\_bootstrap.py:219: RuntimeWarning: numpy.ufunc size changed, may indicate binary incompatibility. Expected 192 from C header, got 216 from PyObject\n",
      "  return f(*args, **kwds)\n",
      "D:\\Anaconda3\\lib\\importlib\\_bootstrap.py:219: RuntimeWarning: numpy.ufunc size changed, may indicate binary incompatibility. Expected 192 from C header, got 216 from PyObject\n",
      "  return f(*args, **kwds)\n"
     ]
    }
   ],
   "source": [
    "# import necessary packages\n",
    "import pandas as pd\n",
    "import numpy as np\n",
    "import matplotlib.pyplot as plt\n",
    "import statsmodels.api as sm\n",
    "from statsmodels import regression"
   ]
  },
  {
   "cell_type": "code",
   "execution_count": 3,
   "metadata": {},
   "outputs": [],
   "source": [
    "# to remind us the 11 sectors of S&P500\n",
    "symbols_index = {\"XLB\":\"Materials Select Sector SPDR Fund\",\n",
    "                \"XLE\":\"Energy Select Sector SPDR Fund\",\n",
    "                \"XLF\":\"Financial Select Sector SPDR Fund\",\n",
    "                \"XLI\":\"Industrial Select Sector SPDR Fund\",\n",
    "                \"XLK\":\"Technology Select Sector SPDR Fund\",\n",
    "                \"XLP\":\"Consumer Staples Select Sector SPDR Fund\",\n",
    "                \"XLRE\":\"Real Estate Select Sector SPDR Fund\",\n",
    "                \"XLU\":\"Utilities Select Sector SPDR Fund\",\n",
    "                \"XLV\":\"Health Care Select Sector SPDR Fund\",\n",
    "                \"XLY\":\"Consumer Discretionary Select Sector SPDR Fund\",\n",
    "                \"XTL\":\"Telecommunication Select Sector SPDR Fund\",\n",
    "                \"SPY\":\"SPDR S&P 500 ETF Trust\",\n",
    "                \"^GSPC\":\"S&P 500 Index\"}"
   ]
  },
  {
   "cell_type": "code",
   "execution_count": 11,
   "metadata": {},
   "outputs": [],
   "source": [
    "# read 11 sectors' data from csv. It is too much data to request if we use api. \n",
    "# And it will reach the limit of requests per day of api. So we decide to use csv instead in this notebook.\n",
    "sector_df_origin = dict()\n",
    "sector_df = dict()\n",
    "for key in symbols_index:\n",
    "    df_temp = pd.read_csv(key+\".csv\", parse_dates = True, index_col = \"Date\")\n",
    "    sector_df_origin[key] = df_temp\n",
    "    df_temp_copy = df_temp.copy()\n",
    "    df_temp_copy[\"return\"] = df_temp_copy[\"Adj Close\"].pct_change()\n",
    "    sector_df[key] = df_temp_copy.iloc[1:]"
   ]
  },
  {
   "cell_type": "code",
   "execution_count": 12,
   "metadata": {},
   "outputs": [
    {
     "data": {
      "text/html": [
       "<div>\n",
       "<style scoped>\n",
       "    .dataframe tbody tr th:only-of-type {\n",
       "        vertical-align: middle;\n",
       "    }\n",
       "\n",
       "    .dataframe tbody tr th {\n",
       "        vertical-align: top;\n",
       "    }\n",
       "\n",
       "    .dataframe thead th {\n",
       "        text-align: right;\n",
       "    }\n",
       "</style>\n",
       "<table border=\"1\" class=\"dataframe\">\n",
       "  <thead>\n",
       "    <tr style=\"text-align: right;\">\n",
       "      <th></th>\n",
       "      <th>Open</th>\n",
       "      <th>High</th>\n",
       "      <th>Low</th>\n",
       "      <th>Close</th>\n",
       "      <th>Adj Close</th>\n",
       "      <th>Volume</th>\n",
       "    </tr>\n",
       "    <tr>\n",
       "      <th>Date</th>\n",
       "      <th></th>\n",
       "      <th></th>\n",
       "      <th></th>\n",
       "      <th></th>\n",
       "      <th></th>\n",
       "      <th></th>\n",
       "    </tr>\n",
       "  </thead>\n",
       "  <tbody>\n",
       "    <tr>\n",
       "      <th>2015-06-19</th>\n",
       "      <td>50.470001</td>\n",
       "      <td>50.639999</td>\n",
       "      <td>50.209999</td>\n",
       "      <td>50.209999</td>\n",
       "      <td>45.504456</td>\n",
       "      <td>3697500</td>\n",
       "    </tr>\n",
       "    <tr>\n",
       "      <th>2015-06-22</th>\n",
       "      <td>50.480000</td>\n",
       "      <td>50.480000</td>\n",
       "      <td>50.250000</td>\n",
       "      <td>50.400002</td>\n",
       "      <td>45.676640</td>\n",
       "      <td>1981300</td>\n",
       "    </tr>\n",
       "    <tr>\n",
       "      <th>2015-06-23</th>\n",
       "      <td>50.419998</td>\n",
       "      <td>50.480000</td>\n",
       "      <td>50.160000</td>\n",
       "      <td>50.259998</td>\n",
       "      <td>45.549763</td>\n",
       "      <td>2251600</td>\n",
       "    </tr>\n",
       "    <tr>\n",
       "      <th>2015-06-24</th>\n",
       "      <td>50.150002</td>\n",
       "      <td>50.180000</td>\n",
       "      <td>49.610001</td>\n",
       "      <td>49.619999</td>\n",
       "      <td>44.969738</td>\n",
       "      <td>3141300</td>\n",
       "    </tr>\n",
       "    <tr>\n",
       "      <th>2015-06-25</th>\n",
       "      <td>49.639999</td>\n",
       "      <td>49.820000</td>\n",
       "      <td>49.430000</td>\n",
       "      <td>49.580002</td>\n",
       "      <td>44.933491</td>\n",
       "      <td>2448100</td>\n",
       "    </tr>\n",
       "  </tbody>\n",
       "</table>\n",
       "</div>"
      ],
      "text/plain": [
       "                 Open       High        Low      Close  Adj Close   Volume\n",
       "Date                                                                      \n",
       "2015-06-19  50.470001  50.639999  50.209999  50.209999  45.504456  3697500\n",
       "2015-06-22  50.480000  50.480000  50.250000  50.400002  45.676640  1981300\n",
       "2015-06-23  50.419998  50.480000  50.160000  50.259998  45.549763  2251600\n",
       "2015-06-24  50.150002  50.180000  49.610001  49.619999  44.969738  3141300\n",
       "2015-06-25  49.639999  49.820000  49.430000  49.580002  44.933491  2448100"
      ]
     },
     "execution_count": 12,
     "metadata": {},
     "output_type": "execute_result"
    }
   ],
   "source": [
    "# check the dataframe\n",
    "sector_df_origin[\"XLB\"].head()"
   ]
  },
  {
   "cell_type": "code",
   "execution_count": 13,
   "metadata": {},
   "outputs": [
    {
     "data": {
      "text/html": [
       "<div>\n",
       "<style scoped>\n",
       "    .dataframe tbody tr th:only-of-type {\n",
       "        vertical-align: middle;\n",
       "    }\n",
       "\n",
       "    .dataframe tbody tr th {\n",
       "        vertical-align: top;\n",
       "    }\n",
       "\n",
       "    .dataframe thead th {\n",
       "        text-align: right;\n",
       "    }\n",
       "</style>\n",
       "<table border=\"1\" class=\"dataframe\">\n",
       "  <thead>\n",
       "    <tr style=\"text-align: right;\">\n",
       "      <th></th>\n",
       "      <th>Open</th>\n",
       "      <th>High</th>\n",
       "      <th>Low</th>\n",
       "      <th>Close</th>\n",
       "      <th>Adj Close</th>\n",
       "      <th>Volume</th>\n",
       "      <th>return</th>\n",
       "    </tr>\n",
       "    <tr>\n",
       "      <th>Date</th>\n",
       "      <th></th>\n",
       "      <th></th>\n",
       "      <th></th>\n",
       "      <th></th>\n",
       "      <th></th>\n",
       "      <th></th>\n",
       "      <th></th>\n",
       "    </tr>\n",
       "  </thead>\n",
       "  <tbody>\n",
       "    <tr>\n",
       "      <th>2015-06-22</th>\n",
       "      <td>2112.500000</td>\n",
       "      <td>2129.870117</td>\n",
       "      <td>2112.500000</td>\n",
       "      <td>2122.850098</td>\n",
       "      <td>2122.850098</td>\n",
       "      <td>3030020000</td>\n",
       "      <td>0.006095</td>\n",
       "    </tr>\n",
       "    <tr>\n",
       "      <th>2015-06-23</th>\n",
       "      <td>2123.159912</td>\n",
       "      <td>2128.030029</td>\n",
       "      <td>2119.889893</td>\n",
       "      <td>2124.199951</td>\n",
       "      <td>2124.199951</td>\n",
       "      <td>3091190000</td>\n",
       "      <td>0.000636</td>\n",
       "    </tr>\n",
       "    <tr>\n",
       "      <th>2015-06-24</th>\n",
       "      <td>2123.649902</td>\n",
       "      <td>2125.100098</td>\n",
       "      <td>2108.580078</td>\n",
       "      <td>2108.580078</td>\n",
       "      <td>2108.580078</td>\n",
       "      <td>3102480000</td>\n",
       "      <td>-0.007353</td>\n",
       "    </tr>\n",
       "    <tr>\n",
       "      <th>2015-06-25</th>\n",
       "      <td>2109.959961</td>\n",
       "      <td>2116.040039</td>\n",
       "      <td>2101.780029</td>\n",
       "      <td>2102.310059</td>\n",
       "      <td>2102.310059</td>\n",
       "      <td>3214610000</td>\n",
       "      <td>-0.002974</td>\n",
       "    </tr>\n",
       "    <tr>\n",
       "      <th>2015-06-26</th>\n",
       "      <td>2102.620117</td>\n",
       "      <td>2108.919922</td>\n",
       "      <td>2095.379883</td>\n",
       "      <td>2101.489990</td>\n",
       "      <td>2101.489990</td>\n",
       "      <td>5025470000</td>\n",
       "      <td>-0.000390</td>\n",
       "    </tr>\n",
       "  </tbody>\n",
       "</table>\n",
       "</div>"
      ],
      "text/plain": [
       "                   Open         High          Low        Close    Adj Close  \\\n",
       "Date                                                                          \n",
       "2015-06-22  2112.500000  2129.870117  2112.500000  2122.850098  2122.850098   \n",
       "2015-06-23  2123.159912  2128.030029  2119.889893  2124.199951  2124.199951   \n",
       "2015-06-24  2123.649902  2125.100098  2108.580078  2108.580078  2108.580078   \n",
       "2015-06-25  2109.959961  2116.040039  2101.780029  2102.310059  2102.310059   \n",
       "2015-06-26  2102.620117  2108.919922  2095.379883  2101.489990  2101.489990   \n",
       "\n",
       "                Volume    return  \n",
       "Date                              \n",
       "2015-06-22  3030020000  0.006095  \n",
       "2015-06-23  3091190000  0.000636  \n",
       "2015-06-24  3102480000 -0.007353  \n",
       "2015-06-25  3214610000 -0.002974  \n",
       "2015-06-26  5025470000 -0.000390  "
      ]
     },
     "execution_count": 13,
     "metadata": {},
     "output_type": "execute_result"
    }
   ],
   "source": [
    "sector_df[\"^GSPC\"].head()"
   ]
  },
  {
   "cell_type": "code",
   "execution_count": 15,
   "metadata": {},
   "outputs": [
    {
     "data": {
      "text/plain": [
       "Timestamp('2015-06-23 00:00:00')"
      ]
     },
     "execution_count": 15,
     "metadata": {},
     "output_type": "execute_result"
    }
   ],
   "source": [
    "sector_df[\"^GSPC\"].index[1]"
   ]
  },
  {
   "cell_type": "code",
   "execution_count": 17,
   "metadata": {},
   "outputs": [],
   "source": [
    "# define a function to find the trading dates that close to the date we decided\n",
    "def find_tading_date(DataFrame, start_date, end_date):\n",
    "    start_date = pd.Timestamp(start_date)\n",
    "    end_date = pd.Timestamp(end_date)\n",
    "    while start_date not in DataFrame.index:\n",
    "        start_date = start_date - pd.Timedelta(1,\"D\")\n",
    "    while end_date not in DataFrame.index:\n",
    "        end_date = end_date - pd.Timedelta(1,\"D\")\n",
    "    print(start_date, end_date)\n",
    "    return start_date,end_date"
   ]
  },
  {
   "cell_type": "code",
   "execution_count": 19,
   "metadata": {},
   "outputs": [
    {
     "name": "stdout",
     "output_type": "stream",
     "text": [
      "2020-02-18 00:00:00 2020-06-18 00:00:00\n"
     ]
    }
   ],
   "source": [
    "# apply the function to find trading date\n",
    "start_date = \"2020-02-18\"\n",
    "end_date = \"2020-06-18\"\n",
    "start_date, end_date = find_tading_date(sector_df[\"^GSPC\"],start_date = start_date, end_date = end_date)"
   ]
  },
  {
   "cell_type": "code",
   "execution_count": 20,
   "metadata": {},
   "outputs": [
    {
     "data": {
      "text/plain": [
       "Timedelta('121 days 00:00:00')"
      ]
     },
     "execution_count": 20,
     "metadata": {},
     "output_type": "execute_result"
    }
   ],
   "source": [
    "end_date - start_date"
   ]
  },
  {
   "cell_type": "code",
   "execution_count": 30,
   "metadata": {},
   "outputs": [],
   "source": [
    "# define a function to calculate the beta value\n",
    "def linreg(x,y):\n",
    "    x = sm.add_constant(x)\n",
    "    model = sm.OLS(y,x).fit()\n",
    "    return model.params[1]"
   ]
  },
  {
   "cell_type": "code",
   "execution_count": 50,
   "metadata": {},
   "outputs": [
    {
     "data": {
      "text/plain": [
       "dict_keys(['XLB', 'XLE', 'XLF', 'XLI', 'XLK', 'XLP', 'XLRE', 'XLU', 'XLV', 'XLY', 'XTL', 'SPY', '^GSPC'])"
      ]
     },
     "execution_count": 50,
     "metadata": {},
     "output_type": "execute_result"
    }
   ],
   "source": [
    "sector_df.keys()"
   ]
  },
  {
   "cell_type": "code",
   "execution_count": 59,
   "metadata": {},
   "outputs": [],
   "source": [
    "# apply linear regresssion with specific x and y to calculate the beta value of each sector\n",
    "y_list = ['XLB', 'XLE', 'XLF', 'XLI', 'XLK', 'XLP', 'XLRE', 'XLU', 'XLV', 'XLY', 'XTL']\n",
    "x_list = ['SPY', '^GSPC']\n",
    "beta_dict = dict()\n",
    "for y in y_list:\n",
    "    for x in x_list:\n",
    "        beta = linreg(sector_df[x][\"return\"].loc[start_date:end_date].values,\n",
    "                      sector_df[y][\"return\"].loc[start_date:end_date].values)\n",
    "        if y not in beta_dict.keys():\n",
    "            beta_dict[y] = {x:beta}\n",
    "        else:\n",
    "            beta_dict[y][x] = beta"
   ]
  },
  {
   "cell_type": "code",
   "execution_count": 66,
   "metadata": {},
   "outputs": [],
   "source": [
    "# define a function to apply linear regression for later use\n",
    "def multiple_beta_builder(x_list, y_list, start_date, end_date):\n",
    "    beta_dict = dict()\n",
    "    for x in x_list:\n",
    "        for y in y_list:\n",
    "            beta = linreg(sector_df[x][\"return\"].loc[start_date:end_date].values,\n",
    "                          sector_df[y][\"return\"].loc[start_date:end_date].values)\n",
    "            if x not in beta_dict.keys():\n",
    "                beta_dict[x] = {y:beta}\n",
    "            else:\n",
    "                beta_dict[x][y] = beta\n",
    "    beta_df = pd.DataFrame(beta_dict)\n",
    "    return beta_df"
   ]
  },
  {
   "cell_type": "code",
   "execution_count": 67,
   "metadata": {},
   "outputs": [
    {
     "data": {
      "text/html": [
       "<div>\n",
       "<style scoped>\n",
       "    .dataframe tbody tr th:only-of-type {\n",
       "        vertical-align: middle;\n",
       "    }\n",
       "\n",
       "    .dataframe tbody tr th {\n",
       "        vertical-align: top;\n",
       "    }\n",
       "\n",
       "    .dataframe thead th {\n",
       "        text-align: right;\n",
       "    }\n",
       "</style>\n",
       "<table border=\"1\" class=\"dataframe\">\n",
       "  <thead>\n",
       "    <tr style=\"text-align: right;\">\n",
       "      <th></th>\n",
       "      <th>SPY</th>\n",
       "      <th>^GSPC</th>\n",
       "    </tr>\n",
       "  </thead>\n",
       "  <tbody>\n",
       "    <tr>\n",
       "      <th>XLB</th>\n",
       "      <td>1.071260</td>\n",
       "      <td>1.033130</td>\n",
       "    </tr>\n",
       "    <tr>\n",
       "      <th>XLE</th>\n",
       "      <td>1.411604</td>\n",
       "      <td>1.354302</td>\n",
       "    </tr>\n",
       "    <tr>\n",
       "      <th>XLF</th>\n",
       "      <td>1.271558</td>\n",
       "      <td>1.228168</td>\n",
       "    </tr>\n",
       "    <tr>\n",
       "      <th>XLI</th>\n",
       "      <td>1.117468</td>\n",
       "      <td>1.076040</td>\n",
       "    </tr>\n",
       "    <tr>\n",
       "      <th>XLK</th>\n",
       "      <td>1.119791</td>\n",
       "      <td>1.085400</td>\n",
       "    </tr>\n",
       "    <tr>\n",
       "      <th>XLP</th>\n",
       "      <td>0.761840</td>\n",
       "      <td>0.738244</td>\n",
       "    </tr>\n",
       "    <tr>\n",
       "      <th>XLRE</th>\n",
       "      <td>1.116072</td>\n",
       "      <td>1.081173</td>\n",
       "    </tr>\n",
       "    <tr>\n",
       "      <th>XLU</th>\n",
       "      <td>1.027350</td>\n",
       "      <td>0.996603</td>\n",
       "    </tr>\n",
       "    <tr>\n",
       "      <th>XLV</th>\n",
       "      <td>0.851600</td>\n",
       "      <td>0.825683</td>\n",
       "    </tr>\n",
       "    <tr>\n",
       "      <th>XLY</th>\n",
       "      <td>0.971094</td>\n",
       "      <td>0.937087</td>\n",
       "    </tr>\n",
       "    <tr>\n",
       "      <th>XTL</th>\n",
       "      <td>0.921034</td>\n",
       "      <td>0.889081</td>\n",
       "    </tr>\n",
       "  </tbody>\n",
       "</table>\n",
       "</div>"
      ],
      "text/plain": [
       "           SPY     ^GSPC\n",
       "XLB   1.071260  1.033130\n",
       "XLE   1.411604  1.354302\n",
       "XLF   1.271558  1.228168\n",
       "XLI   1.117468  1.076040\n",
       "XLK   1.119791  1.085400\n",
       "XLP   0.761840  0.738244\n",
       "XLRE  1.116072  1.081173\n",
       "XLU   1.027350  0.996603\n",
       "XLV   0.851600  0.825683\n",
       "XLY   0.971094  0.937087\n",
       "XTL   0.921034  0.889081"
      ]
     },
     "execution_count": 67,
     "metadata": {},
     "output_type": "execute_result"
    }
   ],
   "source": [
    "# beta values of each sector after COVID-19 took place\n",
    "COVID_beta_df = multiple_beta_builder(x_list, y_list, start_date = start_date, end_date = end_date)\n",
    "COVID_beta_df"
   ]
  },
  {
   "cell_type": "code",
   "execution_count": 72,
   "metadata": {},
   "outputs": [
    {
     "name": "stdout",
     "output_type": "stream",
     "text": [
      "Largest beta during COVID-19: XLE, Energy Select Sector SPDR Fund 1.3543016374507317\n",
      "Smallest beta during COVID-19: XLP, Consumer Staples Select Sector SPDR Fund 0.7382437522665167\n"
     ]
    }
   ],
   "source": [
    "print(\"Largest beta during COVID-19: XLE,\" , symbols_index[\"XLE\"] , COVID_beta_df[\"^GSPC\"].loc[\"XLE\"])\n",
    "print(\"Smallest beta during COVID-19: XLP,\" , symbols_index[\"XLP\"], COVID_beta_df[\"^GSPC\"].loc[\"XLP\"])"
   ]
  },
  {
   "cell_type": "code",
   "execution_count": 68,
   "metadata": {},
   "outputs": [
    {
     "name": "stdout",
     "output_type": "stream",
     "text": [
      "2019-10-18 00:00:00 2020-02-18 00:00:00\n"
     ]
    }
   ],
   "source": [
    "# retrodict a date as the start date of the time period before COVID-19 according to the days  had passed since COVID-19 started.\n",
    "preCOVID_start = \"2019-10-18\"\n",
    "preCOVID_end = start_date\n",
    "preCOVID_start, preCOVID_end = find_tading_date(sector_df[\"^GSPC\"], preCOVID_start, preCOVID_end)"
   ]
  },
  {
   "cell_type": "code",
   "execution_count": 69,
   "metadata": {},
   "outputs": [
    {
     "data": {
      "text/html": [
       "<div>\n",
       "<style scoped>\n",
       "    .dataframe tbody tr th:only-of-type {\n",
       "        vertical-align: middle;\n",
       "    }\n",
       "\n",
       "    .dataframe tbody tr th {\n",
       "        vertical-align: top;\n",
       "    }\n",
       "\n",
       "    .dataframe thead th {\n",
       "        text-align: right;\n",
       "    }\n",
       "</style>\n",
       "<table border=\"1\" class=\"dataframe\">\n",
       "  <thead>\n",
       "    <tr style=\"text-align: right;\">\n",
       "      <th></th>\n",
       "      <th>SPY</th>\n",
       "      <th>^GSPC</th>\n",
       "    </tr>\n",
       "  </thead>\n",
       "  <tbody>\n",
       "    <tr>\n",
       "      <th>XLB</th>\n",
       "      <td>1.130307</td>\n",
       "      <td>1.139587</td>\n",
       "    </tr>\n",
       "    <tr>\n",
       "      <th>XLE</th>\n",
       "      <td>1.186348</td>\n",
       "      <td>1.188401</td>\n",
       "    </tr>\n",
       "    <tr>\n",
       "      <th>XLF</th>\n",
       "      <td>1.094992</td>\n",
       "      <td>1.100635</td>\n",
       "    </tr>\n",
       "    <tr>\n",
       "      <th>XLI</th>\n",
       "      <td>1.154670</td>\n",
       "      <td>1.159320</td>\n",
       "    </tr>\n",
       "    <tr>\n",
       "      <th>XLK</th>\n",
       "      <td>1.469072</td>\n",
       "      <td>1.475339</td>\n",
       "    </tr>\n",
       "    <tr>\n",
       "      <th>XLP</th>\n",
       "      <td>0.311518</td>\n",
       "      <td>0.321827</td>\n",
       "    </tr>\n",
       "    <tr>\n",
       "      <th>XLRE</th>\n",
       "      <td>0.329272</td>\n",
       "      <td>0.344970</td>\n",
       "    </tr>\n",
       "    <tr>\n",
       "      <th>XLU</th>\n",
       "      <td>-0.012803</td>\n",
       "      <td>0.001740</td>\n",
       "    </tr>\n",
       "    <tr>\n",
       "      <th>XLV</th>\n",
       "      <td>0.883104</td>\n",
       "      <td>0.886495</td>\n",
       "    </tr>\n",
       "    <tr>\n",
       "      <th>XLY</th>\n",
       "      <td>0.816509</td>\n",
       "      <td>0.826018</td>\n",
       "    </tr>\n",
       "    <tr>\n",
       "      <th>XTL</th>\n",
       "      <td>0.944383</td>\n",
       "      <td>0.944253</td>\n",
       "    </tr>\n",
       "  </tbody>\n",
       "</table>\n",
       "</div>"
      ],
      "text/plain": [
       "           SPY     ^GSPC\n",
       "XLB   1.130307  1.139587\n",
       "XLE   1.186348  1.188401\n",
       "XLF   1.094992  1.100635\n",
       "XLI   1.154670  1.159320\n",
       "XLK   1.469072  1.475339\n",
       "XLP   0.311518  0.321827\n",
       "XLRE  0.329272  0.344970\n",
       "XLU  -0.012803  0.001740\n",
       "XLV   0.883104  0.886495\n",
       "XLY   0.816509  0.826018\n",
       "XTL   0.944383  0.944253"
      ]
     },
     "execution_count": 69,
     "metadata": {},
     "output_type": "execute_result"
    }
   ],
   "source": [
    "# beta values of each sectors before COVID-19\n",
    "preCOVID_beta_df = multiple_beta_builder(x_list, y_list, start_date = preCOVID_start, end_date = preCOVID_end)\n",
    "preCOVID_beta_df"
   ]
  },
  {
   "cell_type": "code",
   "execution_count": 74,
   "metadata": {},
   "outputs": [
    {
     "name": "stdout",
     "output_type": "stream",
     "text": [
      "Largest beta before COVID-19: XLK, Technology Select Sector SPDR Fund 1.4753390191319242\n",
      "Smallest beta before COVID-19: XLU, Utilities Select Sector SPDR Fund 0.0017395259672557117\n"
     ]
    }
   ],
   "source": [
    "print(\"Largest beta before COVID-19: XLK,\" , symbols_index[\"XLK\"] , preCOVID_beta_df[\"^GSPC\"].loc[\"XLK\"])\n",
    "print(\"Smallest beta before COVID-19: XLU,\" , symbols_index[\"XLU\"], preCOVID_beta_df[\"^GSPC\"].loc[\"XLU\"])"
   ]
  },
  {
   "cell_type": "code",
   "execution_count": 77,
   "metadata": {},
   "outputs": [
    {
     "data": {
      "text/html": [
       "<div>\n",
       "<style scoped>\n",
       "    .dataframe tbody tr th:only-of-type {\n",
       "        vertical-align: middle;\n",
       "    }\n",
       "\n",
       "    .dataframe tbody tr th {\n",
       "        vertical-align: top;\n",
       "    }\n",
       "\n",
       "    .dataframe thead th {\n",
       "        text-align: right;\n",
       "    }\n",
       "</style>\n",
       "<table border=\"1\" class=\"dataframe\">\n",
       "  <thead>\n",
       "    <tr style=\"text-align: right;\">\n",
       "      <th></th>\n",
       "      <th>SPY</th>\n",
       "      <th>^GSPC</th>\n",
       "    </tr>\n",
       "  </thead>\n",
       "  <tbody>\n",
       "    <tr>\n",
       "      <th>XLB</th>\n",
       "      <td>-0.059047</td>\n",
       "      <td>-0.106456</td>\n",
       "    </tr>\n",
       "    <tr>\n",
       "      <th>XLE</th>\n",
       "      <td>0.225257</td>\n",
       "      <td>0.165900</td>\n",
       "    </tr>\n",
       "    <tr>\n",
       "      <th>XLF</th>\n",
       "      <td>0.176566</td>\n",
       "      <td>0.127533</td>\n",
       "    </tr>\n",
       "    <tr>\n",
       "      <th>XLI</th>\n",
       "      <td>-0.037202</td>\n",
       "      <td>-0.083280</td>\n",
       "    </tr>\n",
       "    <tr>\n",
       "      <th>XLK</th>\n",
       "      <td>-0.349282</td>\n",
       "      <td>-0.389939</td>\n",
       "    </tr>\n",
       "    <tr>\n",
       "      <th>XLP</th>\n",
       "      <td>0.450323</td>\n",
       "      <td>0.416417</td>\n",
       "    </tr>\n",
       "    <tr>\n",
       "      <th>XLRE</th>\n",
       "      <td>0.786801</td>\n",
       "      <td>0.736203</td>\n",
       "    </tr>\n",
       "    <tr>\n",
       "      <th>XLU</th>\n",
       "      <td>1.040152</td>\n",
       "      <td>0.994864</td>\n",
       "    </tr>\n",
       "    <tr>\n",
       "      <th>XLV</th>\n",
       "      <td>-0.031504</td>\n",
       "      <td>-0.060811</td>\n",
       "    </tr>\n",
       "    <tr>\n",
       "      <th>XLY</th>\n",
       "      <td>0.154585</td>\n",
       "      <td>0.111069</td>\n",
       "    </tr>\n",
       "    <tr>\n",
       "      <th>XTL</th>\n",
       "      <td>-0.023349</td>\n",
       "      <td>-0.055172</td>\n",
       "    </tr>\n",
       "  </tbody>\n",
       "</table>\n",
       "</div>"
      ],
      "text/plain": [
       "           SPY     ^GSPC\n",
       "XLB  -0.059047 -0.106456\n",
       "XLE   0.225257  0.165900\n",
       "XLF   0.176566  0.127533\n",
       "XLI  -0.037202 -0.083280\n",
       "XLK  -0.349282 -0.389939\n",
       "XLP   0.450323  0.416417\n",
       "XLRE  0.786801  0.736203\n",
       "XLU   1.040152  0.994864\n",
       "XLV  -0.031504 -0.060811\n",
       "XLY   0.154585  0.111069\n",
       "XTL  -0.023349 -0.055172"
      ]
     },
     "execution_count": 77,
     "metadata": {},
     "output_type": "execute_result"
    }
   ],
   "source": [
    "# the differences between beta values before and during COVID-19\n",
    "beta_difference_df = COVID_beta_df - preCOVID_beta_df\n",
    "beta_difference_df"
   ]
  },
  {
   "cell_type": "code",
   "execution_count": 78,
   "metadata": {},
   "outputs": [
    {
     "name": "stdout",
     "output_type": "stream",
     "text": [
      "Largest positive beta difference: XLU, Utilities Select Sector SPDR Fund 0.9948635707689599\n",
      "Largest negative beta difference: XLK, Technology Select Sector SPDR Fund -0.389939485460695\n",
      "Smallest beta difference: XTL, Telecommunication Select Sector SPDR Fund -0.05517186756034398\n"
     ]
    }
   ],
   "source": [
    "print(\"Largest positive beta difference: XLU,\" , symbols_index[\"XLU\"] , beta_difference_df[\"^GSPC\"].loc[\"XLU\"])\n",
    "print(\"Largest negative beta difference: XLK,\" , symbols_index[\"XLK\"], beta_difference_df[\"^GSPC\"].loc[\"XLK\"])\n",
    "print(\"Smallest beta difference: XTL,\" , symbols_index[\"XTL\"], beta_difference_df[\"^GSPC\"].loc[\"XTL\"])"
   ]
  }
 ],
 "metadata": {
  "kernelspec": {
   "display_name": "Python 3",
   "language": "python",
   "name": "python3"
  },
  "language_info": {
   "codemirror_mode": {
    "name": "ipython",
    "version": 3
   },
   "file_extension": ".py",
   "mimetype": "text/x-python",
   "name": "python",
   "nbconvert_exporter": "python",
   "pygments_lexer": "ipython3",
   "version": "3.7.3"
  }
 },
 "nbformat": 4,
 "nbformat_minor": 2
}
