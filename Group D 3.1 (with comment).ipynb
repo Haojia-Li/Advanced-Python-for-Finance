{
 "cells": [
  {
   "cell_type": "code",
   "execution_count": 170,
   "metadata": {},
   "outputs": [],
   "source": [
    "# required package: requests, os, dotenv, pandas, numpy, matplotlib, seaborn, statsmodels\n",
    "import requests\n",
    "import os \n",
    "from dotenv import load_dotenv\n",
    "import pandas as pd \n",
    "import numpy as np\n",
    "import matplotlib.pyplot as plt\n",
    "import seaborn as sns"
   ]
  },
  {
   "cell_type": "markdown",
   "metadata": {},
   "source": [
    "# 1.Get stocks data"
   ]
  },
  {
   "cell_type": "code",
   "execution_count": 171,
   "metadata": {},
   "outputs": [
    {
     "name": "stdout",
     "output_type": "stream",
     "text": [
      "BUJ3UP2OED77R7KR\n"
     ]
    }
   ],
   "source": [
    "# get a previously issued Alpha Vantage key from an .env file\n",
    "env_file = \"env_vars.env\"\n",
    "load_dotenv(env_file)\n",
    "vantage_key = os.getenv(\"ALPHAVANTAGE_KEY\")\n",
    "print(vantage_key)"
   ]
  },
  {
   "cell_type": "code",
   "execution_count": 172,
   "metadata": {},
   "outputs": [],
   "source": [
    "# define a function to form AlphaVantage request\n",
    "def FormDailyRequestData(symbol, outputsize , apikey):\n",
    "    requestData = {\n",
    "        \"function\" : \"TIME_SERIES_DAILY_ADJUSTED\",\n",
    "        \"symbol\": symbol,\n",
    "        \"outputsize\": outputsize,\n",
    "        \"datatype\": \"json\",\n",
    "        \"apikey\": apikey\n",
    "    }\n",
    "    return requestData"
   ]
  },
  {
   "cell_type": "code",
   "execution_count": 173,
   "metadata": {},
   "outputs": [
    {
     "name": "stdout",
     "output_type": "stream",
     "text": [
      "[{'function': 'TIME_SERIES_DAILY_ADJUSTED', 'symbol': 'AAPL', 'outputsize': 'full', 'datatype': 'json', 'apikey': 'BUJ3UP2OED77R7KR'}, {'function': 'TIME_SERIES_DAILY_ADJUSTED', 'symbol': 'BA', 'outputsize': 'full', 'datatype': 'json', 'apikey': 'BUJ3UP2OED77R7KR'}, {'function': 'TIME_SERIES_DAILY_ADJUSTED', 'symbol': 'SPY', 'outputsize': 'full', 'datatype': 'json', 'apikey': 'BUJ3UP2OED77R7KR'}, {'function': 'TIME_SERIES_DAILY_ADJUSTED', 'symbol': 'XLK', 'outputsize': 'full', 'datatype': 'json', 'apikey': 'BUJ3UP2OED77R7KR'}, {'function': 'TIME_SERIES_DAILY_ADJUSTED', 'symbol': 'XLI', 'outputsize': 'full', 'datatype': 'json', 'apikey': 'BUJ3UP2OED77R7KR'}]\n"
     ]
    }
   ],
   "source": [
    "# form AlphaVantage request of multiple stocks and funds\n",
    "symbols = [\"AAPL\",\"BA\",\"SPY\",\"XLK\",\"XLI\"]\n",
    "requestDataS = list()\n",
    "for symbol in symbols:\n",
    "    requestData = FormDailyRequestData(symbol = symbol, \n",
    "                                         outputsize = \"full\", apikey = vantage_key)\n",
    "    requestDataS.append(requestData)\n",
    "print(requestDataS)"
   ]
  },
  {
   "cell_type": "code",
   "execution_count": 174,
   "metadata": {},
   "outputs": [
    {
     "name": "stdout",
     "output_type": "stream",
     "text": [
      "<Response [200]>\n",
      "<Response [200]>\n",
      "<Response [200]>\n",
      "<Response [200]>\n",
      "<Response [200]>\n"
     ]
    }
   ],
   "source": [
    "# define the url where the web service is, submit the request. And check the response.\n",
    "API_URL = \"https://www.alphavantage.co/query\"\n",
    "responseS = list()\n",
    "for requestData in requestDataS:\n",
    "    response = requests.get(API_URL, requestData)\n",
    "    print(response)\n",
    "    responseS.append(response)"
   ]
  },
  {
   "cell_type": "code",
   "execution_count": 175,
   "metadata": {},
   "outputs": [],
   "source": [
    "# get data through successful responses\n",
    "def get_data(response_list, i):\n",
    "    table = response_list[i].json()\n",
    "    data = table[\"Time Series (Daily)\"]\n",
    "    df = pd.DataFrame(data)\n",
    "    dfT = df.T\n",
    "    return dfT"
   ]
  },
  {
   "cell_type": "code",
   "execution_count": 176,
   "metadata": {},
   "outputs": [],
   "source": [
    "AAPL_raw = get_data(responseS, 0)\n",
    "BA_raw = get_data(responseS, 1)\n",
    "SPY_raw = get_data(responseS, 2)\n",
    "XLK_raw = get_data(responseS, 3)\n",
    "XLI_raw = get_data(responseS, 4)"
   ]
  },
  {
   "cell_type": "code",
   "execution_count": 177,
   "metadata": {},
   "outputs": [
    {
     "data": {
      "text/html": [
       "<div>\n",
       "<style scoped>\n",
       "    .dataframe tbody tr th:only-of-type {\n",
       "        vertical-align: middle;\n",
       "    }\n",
       "\n",
       "    .dataframe tbody tr th {\n",
       "        vertical-align: top;\n",
       "    }\n",
       "\n",
       "    .dataframe thead th {\n",
       "        text-align: right;\n",
       "    }\n",
       "</style>\n",
       "<table border=\"1\" class=\"dataframe\">\n",
       "  <thead>\n",
       "    <tr style=\"text-align: right;\">\n",
       "      <th></th>\n",
       "      <th>1. open</th>\n",
       "      <th>2. high</th>\n",
       "      <th>3. low</th>\n",
       "      <th>4. close</th>\n",
       "      <th>5. adjusted close</th>\n",
       "      <th>6. volume</th>\n",
       "      <th>7. dividend amount</th>\n",
       "      <th>8. split coefficient</th>\n",
       "    </tr>\n",
       "  </thead>\n",
       "  <tbody>\n",
       "    <tr>\n",
       "      <th>2020-07-02</th>\n",
       "      <td>69.4900</td>\n",
       "      <td>69.9950</td>\n",
       "      <td>68.4188</td>\n",
       "      <td>68.9800</td>\n",
       "      <td>68.9800</td>\n",
       "      <td>8279310</td>\n",
       "      <td>0.0000</td>\n",
       "      <td>1.0000</td>\n",
       "    </tr>\n",
       "    <tr>\n",
       "      <th>2020-07-01</th>\n",
       "      <td>69.3800</td>\n",
       "      <td>69.9269</td>\n",
       "      <td>68.3400</td>\n",
       "      <td>68.3900</td>\n",
       "      <td>68.3900</td>\n",
       "      <td>9788927</td>\n",
       "      <td>0.0000</td>\n",
       "      <td>1.0000</td>\n",
       "    </tr>\n",
       "    <tr>\n",
       "      <th>2020-06-30</th>\n",
       "      <td>67.7900</td>\n",
       "      <td>69.0900</td>\n",
       "      <td>67.5900</td>\n",
       "      <td>68.7000</td>\n",
       "      <td>68.7000</td>\n",
       "      <td>8865927</td>\n",
       "      <td>0.0000</td>\n",
       "      <td>1.0000</td>\n",
       "    </tr>\n",
       "    <tr>\n",
       "      <th>2020-06-29</th>\n",
       "      <td>67.1200</td>\n",
       "      <td>68.3100</td>\n",
       "      <td>66.6900</td>\n",
       "      <td>68.3100</td>\n",
       "      <td>68.3100</td>\n",
       "      <td>10864676</td>\n",
       "      <td>0.0000</td>\n",
       "      <td>1.0000</td>\n",
       "    </tr>\n",
       "    <tr>\n",
       "      <th>2020-06-26</th>\n",
       "      <td>67.1200</td>\n",
       "      <td>67.3700</td>\n",
       "      <td>65.8500</td>\n",
       "      <td>66.1400</td>\n",
       "      <td>66.1400</td>\n",
       "      <td>21429836</td>\n",
       "      <td>0.0000</td>\n",
       "      <td>1.0000</td>\n",
       "    </tr>\n",
       "  </tbody>\n",
       "</table>\n",
       "</div>"
      ],
      "text/plain": [
       "            1. open  2. high   3. low 4. close 5. adjusted close 6. volume  \\\n",
       "2020-07-02  69.4900  69.9950  68.4188  68.9800           68.9800   8279310   \n",
       "2020-07-01  69.3800  69.9269  68.3400  68.3900           68.3900   9788927   \n",
       "2020-06-30  67.7900  69.0900  67.5900  68.7000           68.7000   8865927   \n",
       "2020-06-29  67.1200  68.3100  66.6900  68.3100           68.3100  10864676   \n",
       "2020-06-26  67.1200  67.3700  65.8500  66.1400           66.1400  21429836   \n",
       "\n",
       "           7. dividend amount 8. split coefficient  \n",
       "2020-07-02             0.0000               1.0000  \n",
       "2020-07-01             0.0000               1.0000  \n",
       "2020-06-30             0.0000               1.0000  \n",
       "2020-06-29             0.0000               1.0000  \n",
       "2020-06-26             0.0000               1.0000  "
      ]
     },
     "execution_count": 177,
     "metadata": {},
     "output_type": "execute_result"
    }
   ],
   "source": [
    "# check raw dataframe\n",
    "XLI_raw.head()"
   ]
  },
  {
   "cell_type": "code",
   "execution_count": 178,
   "metadata": {},
   "outputs": [],
   "source": [
    "# make copies to process\n",
    "AAPL_copy = AAPL_raw.copy()\n",
    "BA_copy = BA_raw.copy()\n",
    "SPY_copy = SPY_raw.copy()\n",
    "XLK_copy = XLK_raw.copy()\n",
    "XLI_copy = XLI_raw.copy()"
   ]
  },
  {
   "cell_type": "markdown",
   "metadata": {},
   "source": [
    "# 2.Read sp500 data"
   ]
  },
  {
   "cell_type": "code",
   "execution_count": 234,
   "metadata": {},
   "outputs": [],
   "source": [
    "# read data from .csv downloaded from yahoo finance\n",
    "sp500_raw = pd.read_csv(\"^GSPC.csv\", date_parser = True)"
   ]
  },
  {
   "cell_type": "code",
   "execution_count": 235,
   "metadata": {},
   "outputs": [],
   "source": [
    "# \"Date\" column as the dataframe index\n",
    "sp500_raw.set_index(\"Date\",inplace = True)"
   ]
  },
  {
   "cell_type": "code",
   "execution_count": 236,
   "metadata": {},
   "outputs": [],
   "source": [
    "# make a copy\n",
    "sp500_copy = sp500_raw.copy()"
   ]
  },
  {
   "cell_type": "code",
   "execution_count": 237,
   "metadata": {},
   "outputs": [
    {
     "data": {
      "text/html": [
       "<div>\n",
       "<style scoped>\n",
       "    .dataframe tbody tr th:only-of-type {\n",
       "        vertical-align: middle;\n",
       "    }\n",
       "\n",
       "    .dataframe tbody tr th {\n",
       "        vertical-align: top;\n",
       "    }\n",
       "\n",
       "    .dataframe thead th {\n",
       "        text-align: right;\n",
       "    }\n",
       "</style>\n",
       "<table border=\"1\" class=\"dataframe\">\n",
       "  <thead>\n",
       "    <tr style=\"text-align: right;\">\n",
       "      <th></th>\n",
       "      <th>Open</th>\n",
       "      <th>High</th>\n",
       "      <th>Low</th>\n",
       "      <th>Close</th>\n",
       "      <th>Adj Close</th>\n",
       "      <th>Volume</th>\n",
       "    </tr>\n",
       "    <tr>\n",
       "      <th>Date</th>\n",
       "      <th></th>\n",
       "      <th></th>\n",
       "      <th></th>\n",
       "      <th></th>\n",
       "      <th></th>\n",
       "      <th></th>\n",
       "    </tr>\n",
       "  </thead>\n",
       "  <tbody>\n",
       "    <tr>\n",
       "      <th>2020-06-24</th>\n",
       "      <td>3114.399902</td>\n",
       "      <td>3115.010010</td>\n",
       "      <td>3032.129883</td>\n",
       "      <td>3050.330078</td>\n",
       "      <td>3050.330078</td>\n",
       "      <td>5587200000</td>\n",
       "    </tr>\n",
       "    <tr>\n",
       "      <th>2020-06-25</th>\n",
       "      <td>3046.600098</td>\n",
       "      <td>3086.250000</td>\n",
       "      <td>3024.010010</td>\n",
       "      <td>3083.760010</td>\n",
       "      <td>3083.760010</td>\n",
       "      <td>4815420000</td>\n",
       "    </tr>\n",
       "    <tr>\n",
       "      <th>2020-06-26</th>\n",
       "      <td>3073.199951</td>\n",
       "      <td>3073.729980</td>\n",
       "      <td>3004.629883</td>\n",
       "      <td>3009.050049</td>\n",
       "      <td>3009.050049</td>\n",
       "      <td>8098120000</td>\n",
       "    </tr>\n",
       "    <tr>\n",
       "      <th>2020-06-29</th>\n",
       "      <td>3018.590088</td>\n",
       "      <td>3053.889893</td>\n",
       "      <td>2999.739990</td>\n",
       "      <td>3053.239990</td>\n",
       "      <td>3053.239990</td>\n",
       "      <td>4462770000</td>\n",
       "    </tr>\n",
       "    <tr>\n",
       "      <th>2020-06-30</th>\n",
       "      <td>3050.199951</td>\n",
       "      <td>3111.510010</td>\n",
       "      <td>3047.830078</td>\n",
       "      <td>3100.290039</td>\n",
       "      <td>3100.290039</td>\n",
       "      <td>4696280000</td>\n",
       "    </tr>\n",
       "  </tbody>\n",
       "</table>\n",
       "</div>"
      ],
      "text/plain": [
       "                   Open         High          Low        Close    Adj Close  \\\n",
       "Date                                                                          \n",
       "2020-06-24  3114.399902  3115.010010  3032.129883  3050.330078  3050.330078   \n",
       "2020-06-25  3046.600098  3086.250000  3024.010010  3083.760010  3083.760010   \n",
       "2020-06-26  3073.199951  3073.729980  3004.629883  3009.050049  3009.050049   \n",
       "2020-06-29  3018.590088  3053.889893  2999.739990  3053.239990  3053.239990   \n",
       "2020-06-30  3050.199951  3111.510010  3047.830078  3100.290039  3100.290039   \n",
       "\n",
       "                Volume  \n",
       "Date                    \n",
       "2020-06-24  5587200000  \n",
       "2020-06-25  4815420000  \n",
       "2020-06-26  8098120000  \n",
       "2020-06-29  4462770000  \n",
       "2020-06-30  4696280000  "
      ]
     },
     "execution_count": 237,
     "metadata": {},
     "output_type": "execute_result"
    }
   ],
   "source": [
    "# check dataframe\n",
    "sp500_copy.tail()"
   ]
  },
  {
   "cell_type": "markdown",
   "metadata": {},
   "source": [
    "# 3.Class to process data"
   ]
  },
  {
   "cell_type": "code",
   "execution_count": 274,
   "metadata": {},
   "outputs": [],
   "source": [
    "# define a class to process raw dataframe\n",
    "class COV19_DATA:\n",
    "    def __init__(self, raw_data, start_date, end_date):\n",
    "        self.raw_data = raw_data\n",
    "        self.start_date = start_date\n",
    "        self.end_date = end_date\n",
    "    \n",
    "    # process the raw dataframe, make raw dataframe into a same format \n",
    "    # And we only need the adjusted close and return in the following analysis, so we only obtain them\n",
    "    def sorted_adjclose_return(self):\n",
    "        date_list = [pd.Timestamp(i) for i in self.raw_data.index]\n",
    "        adclose_df = pd.DataFrame({\"index\" : date_list, \"adjusted_close\" : self.raw_data.iloc[:,4].astype(float)})\n",
    "        adclose_df.set_index(\"index\", inplace = True)\n",
    "        adclose_df.sort_index(inplace = True)\n",
    "        del adclose_df.index.name\n",
    "        adclose_df[\"return\"] = adclose_df[\"adjusted_close\"].pct_change()\n",
    "        return adclose_df\n",
    "    \n",
    "    # find the closest trading date before the start date we set\n",
    "    def initial_trading_day(self):\n",
    "        start = pd.Timestamp(self.start_date)\n",
    "        sorted_df = self.sorted_adjclose_return()\n",
    "        i = 0\n",
    "        while start not in list(sorted_df.index):\n",
    "            start = start - pd.Timedelta(1, \"D\")\n",
    "            i += 1\n",
    "            if i > 4:\n",
    "                print(\"start date out of range\")\n",
    "                break\n",
    "        return start\n",
    "\n",
    "    # find the closest trading date before the end date we set\n",
    "    def last_trading_day(self):\n",
    "        end = pd.Timestamp(self.end_date)\n",
    "        sorted_df = self.sorted_adjclose_return()\n",
    "        j = 0\n",
    "        while end not in list(sorted_df.index):\n",
    "            end = end - pd.Timedelta(1, \"D\")\n",
    "            j += 1\n",
    "            if j > 4:\n",
    "                print(\"end date out of range\")\n",
    "                break\n",
    "        return end\n",
    "     \n",
    "    # slice the dataframe for data between initial trading day and last trading day\n",
    "    # return a dataframe with adjusted close and return during COVID-19\n",
    "    def COV19_adjclose_return(self):\n",
    "        sorted_df = self.sorted_adjclose_return()\n",
    "        initial = self.initial_trading_day()\n",
    "        last = self.last_trading_day()\n",
    "        result = sorted_df.loc[initial:last]\n",
    "        return result\n",
    "    \n",
    "    # return a series of adjusted close between initial and last trading day during COVID-19\n",
    "    def COV19_adjclose(self):\n",
    "        COV19_df = self.COV19_adjclose_return()\n",
    "        result = COV19_df[\"adjusted_close\"]\n",
    "        return result\n",
    "    \n",
    "    # return a series of return between initial and last trading day during COVID-19\n",
    "    def COV19_return(self):\n",
    "        COV19_df = self.COV19_adjclose_return()\n",
    "        result = COV19_df[\"return\"]\n",
    "        return result\n",
    "     \n",
    "    # return the standard deviation of return during COVID-19\n",
    "    def COV19_return_std(self):\n",
    "        returns = self.COV19_return()\n",
    "        result = returns.std()\n",
    "        return result\n",
    "    \n",
    "    # for comparison, we decided to process data of a period of time just before COVID-19 striked\n",
    "    # find last trading day before COVID-19\n",
    "    def PRE_last_trading_day(self):\n",
    "        sorted_df = self.sorted_adjclose_return()\n",
    "        COV19_initial = self.initial_trading_day()\n",
    "        PRE_last = COV19_initial - pd.Timedelta(1, \"D\")\n",
    "        j = 0\n",
    "        while PRE_last not in list(sorted_df.index):\n",
    "            PRE_last = PRE_last - pd.Timedelta(1, \"D\")\n",
    "            j += 1\n",
    "            if j > 4:\n",
    "                print(\"end date out of range\")\n",
    "                break\n",
    "        return PRE_last\n",
    "    \n",
    "    # find initial trading day that make sure the time period of preCOVID-19 is close to that during COVID-19\n",
    "    # return initial trading day before COVID-19\n",
    "    def PRE_initial_trading_day(self):\n",
    "        sorted_df = self.sorted_adjclose_return()\n",
    "        COV19_initial = self.initial_trading_day()\n",
    "        COV19_last = self.last_trading_day()\n",
    "        PRE_last = self.PRE_last_trading_day()\n",
    "        PRE_initial = PRE_last - (COV19_last - COV19_initial)\n",
    "        i = 0\n",
    "        while PRE_initial not in list(sorted_df.index):\n",
    "            PRE_initial = PRE_initial - pd.Timedelta(1, \"D\")\n",
    "            i += 1\n",
    "            if i > 4:\n",
    "                print(\"start date out of range\")\n",
    "                break\n",
    "        return PRE_initial\n",
    "    \n",
    "    # return a dataframe of adjusted close and return before COVID-19\n",
    "    def PRE_adjclose_return(self):\n",
    "        sorted_df = self.sorted_adjclose_return()\n",
    "        PRE_initial = self.PRE_initial_trading_day()\n",
    "        PRE_last = self.PRE_last_trading_day() \n",
    "        result = sorted_df.loc[PRE_initial: PRE_last]\n",
    "        return result \n",
    "    \n",
    "    # return a series of adjusted close before COVID-19 within target time period\n",
    "    def PRE_adjclose(self):\n",
    "        PRE_df = self.PRE_adjclose_return()\n",
    "        result = PRE_df[\"adjusted_close\"]\n",
    "        return result\n",
    "    \n",
    "    # return a series of return before COVID-19 within target time period\n",
    "    def PRE_return(self):\n",
    "        PRE_df = self.PRE_adjclose_return()\n",
    "        result = PRE_df[\"return\"]\n",
    "        return result\n",
    "    \n",
    "    # return the standard deviation of return before COVID-19\n",
    "    def PRE_return_std(self):\n",
    "        returns = self.PRE_return()\n",
    "        result = returns.std()\n",
    "        return result"
   ]
  },
  {
   "cell_type": "markdown",
   "metadata": {},
   "source": [
    "# 4. Input data"
   ]
  },
  {
   "cell_type": "code",
   "execution_count": 275,
   "metadata": {},
   "outputs": [],
   "source": [
    "# time period that what to analyze\n",
    "COV19_start_date = \"2020-02-18\"\n",
    "COV19_end_date = \"2020-06-30\""
   ]
  },
  {
   "cell_type": "code",
   "execution_count": 276,
   "metadata": {},
   "outputs": [],
   "source": [
    "# use COV19_DATA class to process raw data of different stocks, sector ETF, and index\n",
    "AAPL = COV19_DATA(AAPL_copy,COV19_start_date,COV19_end_date)\n",
    "BA = COV19_DATA(BA_copy,COV19_start_date,COV19_end_date)\n",
    "XLK = COV19_DATA(XLK_copy,COV19_start_date,COV19_end_date)\n",
    "XLI = COV19_DATA(XLI_copy,COV19_start_date,COV19_end_date)\n",
    "SPY = COV19_DATA(SPY_copy,COV19_start_date,COV19_end_date)\n",
    "SP500 = COV19_DATA(sp500_copy,COV19_start_date,COV19_end_date)"
   ]
  },
  {
   "cell_type": "code",
   "execution_count": 305,
   "metadata": {},
   "outputs": [
    {
     "data": {
      "text/html": [
       "<div>\n",
       "<style scoped>\n",
       "    .dataframe tbody tr th:only-of-type {\n",
       "        vertical-align: middle;\n",
       "    }\n",
       "\n",
       "    .dataframe tbody tr th {\n",
       "        vertical-align: top;\n",
       "    }\n",
       "\n",
       "    .dataframe thead th {\n",
       "        text-align: right;\n",
       "    }\n",
       "</style>\n",
       "<table border=\"1\" class=\"dataframe\">\n",
       "  <thead>\n",
       "    <tr style=\"text-align: right;\">\n",
       "      <th></th>\n",
       "      <th>adjusted_close</th>\n",
       "      <th>return</th>\n",
       "    </tr>\n",
       "  </thead>\n",
       "  <tbody>\n",
       "    <tr>\n",
       "      <th>2020-02-10</th>\n",
       "      <td>331.1706</td>\n",
       "      <td>0.007465</td>\n",
       "    </tr>\n",
       "    <tr>\n",
       "      <th>2020-02-11</th>\n",
       "      <td>331.7445</td>\n",
       "      <td>0.001733</td>\n",
       "    </tr>\n",
       "    <tr>\n",
       "      <th>2020-02-12</th>\n",
       "      <td>333.8819</td>\n",
       "      <td>0.006443</td>\n",
       "    </tr>\n",
       "    <tr>\n",
       "      <th>2020-02-13</th>\n",
       "      <td>333.5257</td>\n",
       "      <td>-0.001067</td>\n",
       "    </tr>\n",
       "    <tr>\n",
       "      <th>2020-02-14</th>\n",
       "      <td>334.0600</td>\n",
       "      <td>0.001602</td>\n",
       "    </tr>\n",
       "  </tbody>\n",
       "</table>\n",
       "</div>"
      ],
      "text/plain": [
       "            adjusted_close    return\n",
       "2020-02-10        331.1706  0.007465\n",
       "2020-02-11        331.7445  0.001733\n",
       "2020-02-12        333.8819  0.006443\n",
       "2020-02-13        333.5257 -0.001067\n",
       "2020-02-14        334.0600  0.001602"
      ]
     },
     "execution_count": 305,
     "metadata": {},
     "output_type": "execute_result"
    }
   ],
   "source": [
    "# check the result\n",
    "SPY.PRE_adjclose_return().tail()"
   ]
  },
  {
   "cell_type": "markdown",
   "metadata": {},
   "source": [
    "# 5. Return's standard deviation"
   ]
  },
  {
   "cell_type": "code",
   "execution_count": 283,
   "metadata": {},
   "outputs": [
    {
     "data": {
      "text/plain": [
       "0.037359281793291184"
      ]
     },
     "execution_count": 283,
     "metadata": {},
     "output_type": "execute_result"
    }
   ],
   "source": [
    "# standard deviation of each stock, before and during COVID-19\n",
    "AAPL.COV19_return_std()"
   ]
  },
  {
   "cell_type": "code",
   "execution_count": 284,
   "metadata": {},
   "outputs": [
    {
     "data": {
      "text/plain": [
       "0.08239817702298209"
      ]
     },
     "execution_count": 284,
     "metadata": {},
     "output_type": "execute_result"
    }
   ],
   "source": [
    "BA.COV19_return_std()"
   ]
  },
  {
   "cell_type": "code",
   "execution_count": 285,
   "metadata": {},
   "outputs": [
    {
     "data": {
      "text/plain": [
       "0.013041904317011861"
      ]
     },
     "execution_count": 285,
     "metadata": {},
     "output_type": "execute_result"
    }
   ],
   "source": [
    "AAPL.PRE_return_std()"
   ]
  },
  {
   "cell_type": "code",
   "execution_count": 286,
   "metadata": {},
   "outputs": [
    {
     "data": {
      "text/plain": [
       "0.01758725471094072"
      ]
     },
     "execution_count": 286,
     "metadata": {},
     "output_type": "execute_result"
    }
   ],
   "source": [
    "BA.PRE_return_std()"
   ]
  },
  {
   "cell_type": "markdown",
   "metadata": {},
   "source": [
    "# 6.Stocks vs sector etf, stocks vs SP500 beta"
   ]
  },
  {
   "cell_type": "code",
   "execution_count": 287,
   "metadata": {},
   "outputs": [],
   "source": [
    "# import necessary package to utilize linear regression\n",
    "import statsmodels.api as sm\n",
    "from statsmodels import regression"
   ]
  },
  {
   "cell_type": "code",
   "execution_count": 288,
   "metadata": {},
   "outputs": [],
   "source": [
    "# define a funciton to make linear regression\n",
    "def linreg(x,y):\n",
    "    x = sm.add_constant(x)\n",
    "    model = sm.OLS(y,x).fit()\n",
    "    return model.params[1]"
   ]
  },
  {
   "cell_type": "code",
   "execution_count": 289,
   "metadata": {},
   "outputs": [],
   "source": [
    "# test the function with S&P 500 and Apple price\n",
    "x = SP500.COV19_return().values\n",
    "y = AAPL.COV19_return().values\n",
    "beta = linreg(x,y)"
   ]
  },
  {
   "cell_type": "code",
   "execution_count": 290,
   "metadata": {},
   "outputs": [
    {
     "data": {
      "text/plain": [
       "1.0424796631025632"
      ]
     },
     "execution_count": 290,
     "metadata": {},
     "output_type": "execute_result"
    }
   ],
   "source": [
    "beta"
   ]
  },
  {
   "cell_type": "code",
   "execution_count": 291,
   "metadata": {},
   "outputs": [],
   "source": [
    "# it is meaningless to apply regression between irrelevant stock and sector\n",
    "# so we made a dictionary to define the variables we want to apply regression with.\n",
    "variables_dict = {\"XLK\":{\"AAPL\":None},\n",
    "             \"XLI\":{\"BA\":None},\n",
    "             \"SPY\":{\"AAPL\":None, \"BA\":None},\n",
    "             \"SP500\":{\"AAPL\":None, \"BA\":None}}"
   ]
  },
  {
   "cell_type": "code",
   "execution_count": 292,
   "metadata": {},
   "outputs": [],
   "source": [
    "data_dict = {\"AAPL\": AAPL,\n",
    "            \"BA\": BA,\n",
    "            \"XLK\": XLK,\n",
    "            \"XLI\": XLI,\n",
    "            \"SPY\": SPY,\n",
    "            \"SP500\": SP500}"
   ]
  },
  {
   "cell_type": "code",
   "execution_count": 293,
   "metadata": {},
   "outputs": [],
   "source": [
    "# apply regression between specfic variables\n",
    "# though data dict and variables dict are the same, we need to apply linear regression with different parts fo the data \n",
    "# so we need to define two functions to process data during and before COVID-19\n",
    "def COV19_beta_calculator(variables_dict, data_dict):\n",
    "    for x_symbol in variables_dict:\n",
    "        for y_symbol in variables_dict[x_symbol]:\n",
    "            x = data_dict[x_symbol].COV19_return().values\n",
    "            y = data_dict[y_symbol].COV19_return().values\n",
    "            beta = linreg(x,y)\n",
    "            variables_dict[x_symbol][y_symbol] = beta\n",
    "            print(x_symbol,\"vs\",y_symbol,\"success\")\n",
    "    beta_df = pd.DataFrame(variables_dict)\n",
    "    return beta_df\n",
    "\n",
    "def PRE_beta_calculator(variables_dict, data_dict):\n",
    "    for x_symbol in variables_dict:\n",
    "        for y_symbol in variables_dict[x_symbol]:\n",
    "            x = data_dict[x_symbol].PRE_return().values\n",
    "            y = data_dict[y_symbol].PRE_return().values\n",
    "            beta = linreg(x,y)\n",
    "            variables_dict[x_symbol][y_symbol] = beta\n",
    "            print(x_symbol,\"vs\",y_symbol,\"success\")\n",
    "    beta_df = pd.DataFrame(variables_dict)\n",
    "    return beta_df "
   ]
  },
  {
   "cell_type": "code",
   "execution_count": 294,
   "metadata": {},
   "outputs": [
    {
     "name": "stdout",
     "output_type": "stream",
     "text": [
      "XLK vs AAPL success\n",
      "XLI vs BA success\n",
      "SPY vs AAPL success\n",
      "SPY vs BA success\n",
      "SP500 vs AAPL success\n",
      "SP500 vs BA success\n",
      "XLK vs AAPL success\n",
      "XLI vs BA success\n",
      "SPY vs AAPL success\n",
      "SPY vs BA success\n",
      "SP500 vs AAPL success\n",
      "SP500 vs BA success\n"
     ]
    }
   ],
   "source": [
    "# apply linear regression and calculate the beta values\n",
    "COV19_beta_df = COV19_beta_calculator(variables_dict, data_dict)\n",
    "PRE_beta_df = PRE_beta_calculator(variables_dict, data_dict)"
   ]
  },
  {
   "cell_type": "code",
   "execution_count": 295,
   "metadata": {},
   "outputs": [
    {
     "data": {
      "text/html": [
       "<div>\n",
       "<style scoped>\n",
       "    .dataframe tbody tr th:only-of-type {\n",
       "        vertical-align: middle;\n",
       "    }\n",
       "\n",
       "    .dataframe tbody tr th {\n",
       "        vertical-align: top;\n",
       "    }\n",
       "\n",
       "    .dataframe thead th {\n",
       "        text-align: right;\n",
       "    }\n",
       "</style>\n",
       "<table border=\"1\" class=\"dataframe\">\n",
       "  <thead>\n",
       "    <tr style=\"text-align: right;\">\n",
       "      <th></th>\n",
       "      <th>XLK</th>\n",
       "      <th>XLI</th>\n",
       "      <th>SPY</th>\n",
       "      <th>SP500</th>\n",
       "    </tr>\n",
       "  </thead>\n",
       "  <tbody>\n",
       "    <tr>\n",
       "      <th>AAPL</th>\n",
       "      <td>0.974724</td>\n",
       "      <td>NaN</td>\n",
       "      <td>1.076884</td>\n",
       "      <td>1.042480</td>\n",
       "    </tr>\n",
       "    <tr>\n",
       "      <th>BA</th>\n",
       "      <td>NaN</td>\n",
       "      <td>1.777379</td>\n",
       "      <td>1.825824</td>\n",
       "      <td>1.746161</td>\n",
       "    </tr>\n",
       "  </tbody>\n",
       "</table>\n",
       "</div>"
      ],
      "text/plain": [
       "           XLK       XLI       SPY     SP500\n",
       "AAPL  0.974724       NaN  1.076884  1.042480\n",
       "BA         NaN  1.777379  1.825824  1.746161"
      ]
     },
     "execution_count": 295,
     "metadata": {},
     "output_type": "execute_result"
    }
   ],
   "source": [
    "# beta values during COVID-19\n",
    "COV19_beta_df"
   ]
  },
  {
   "cell_type": "code",
   "execution_count": 296,
   "metadata": {},
   "outputs": [
    {
     "data": {
      "text/html": [
       "<div>\n",
       "<style scoped>\n",
       "    .dataframe tbody tr th:only-of-type {\n",
       "        vertical-align: middle;\n",
       "    }\n",
       "\n",
       "    .dataframe tbody tr th {\n",
       "        vertical-align: top;\n",
       "    }\n",
       "\n",
       "    .dataframe thead th {\n",
       "        text-align: right;\n",
       "    }\n",
       "</style>\n",
       "<table border=\"1\" class=\"dataframe\">\n",
       "  <thead>\n",
       "    <tr style=\"text-align: right;\">\n",
       "      <th></th>\n",
       "      <th>XLK</th>\n",
       "      <th>XLI</th>\n",
       "      <th>SPY</th>\n",
       "      <th>SP500</th>\n",
       "    </tr>\n",
       "  </thead>\n",
       "  <tbody>\n",
       "    <tr>\n",
       "      <th>AAPL</th>\n",
       "      <td>1.148001</td>\n",
       "      <td>NaN</td>\n",
       "      <td>1.652255</td>\n",
       "      <td>1.651042</td>\n",
       "    </tr>\n",
       "    <tr>\n",
       "      <th>BA</th>\n",
       "      <td>NaN</td>\n",
       "      <td>1.117679</td>\n",
       "      <td>0.718333</td>\n",
       "      <td>0.685746</td>\n",
       "    </tr>\n",
       "  </tbody>\n",
       "</table>\n",
       "</div>"
      ],
      "text/plain": [
       "           XLK       XLI       SPY     SP500\n",
       "AAPL  1.148001       NaN  1.652255  1.651042\n",
       "BA         NaN  1.117679  0.718333  0.685746"
      ]
     },
     "execution_count": 296,
     "metadata": {},
     "output_type": "execute_result"
    }
   ],
   "source": [
    "# beta values before COVID-19\n",
    "PRE_beta_df"
   ]
  },
  {
   "cell_type": "code",
   "execution_count": 297,
   "metadata": {},
   "outputs": [
    {
     "data": {
      "text/html": [
       "<div>\n",
       "<style scoped>\n",
       "    .dataframe tbody tr th:only-of-type {\n",
       "        vertical-align: middle;\n",
       "    }\n",
       "\n",
       "    .dataframe tbody tr th {\n",
       "        vertical-align: top;\n",
       "    }\n",
       "\n",
       "    .dataframe thead th {\n",
       "        text-align: right;\n",
       "    }\n",
       "</style>\n",
       "<table border=\"1\" class=\"dataframe\">\n",
       "  <thead>\n",
       "    <tr style=\"text-align: right;\">\n",
       "      <th></th>\n",
       "      <th>XLK</th>\n",
       "      <th>XLI</th>\n",
       "      <th>SPY</th>\n",
       "      <th>SP500</th>\n",
       "    </tr>\n",
       "  </thead>\n",
       "  <tbody>\n",
       "    <tr>\n",
       "      <th>AAPL</th>\n",
       "      <td>-0.173277</td>\n",
       "      <td>NaN</td>\n",
       "      <td>-0.575371</td>\n",
       "      <td>-0.608563</td>\n",
       "    </tr>\n",
       "    <tr>\n",
       "      <th>BA</th>\n",
       "      <td>NaN</td>\n",
       "      <td>0.659699</td>\n",
       "      <td>1.107491</td>\n",
       "      <td>1.060415</td>\n",
       "    </tr>\n",
       "  </tbody>\n",
       "</table>\n",
       "</div>"
      ],
      "text/plain": [
       "           XLK       XLI       SPY     SP500\n",
       "AAPL -0.173277       NaN -0.575371 -0.608563\n",
       "BA         NaN  0.659699  1.107491  1.060415"
      ]
     },
     "execution_count": 297,
     "metadata": {},
     "output_type": "execute_result"
    }
   ],
   "source": [
    "# beta differences between before and during COVID-19\n",
    "beta_change_df = COV19_beta_df - PRE_beta_df\n",
    "beta_change_df"
   ]
  },
  {
   "cell_type": "markdown",
   "metadata": {},
   "source": [
    "# 7.Visualization"
   ]
  },
  {
   "cell_type": "markdown",
   "metadata": {},
   "source": [
    "## beta change heatmap"
   ]
  },
  {
   "cell_type": "code",
   "execution_count": 298,
   "metadata": {},
   "outputs": [
    {
     "data": {
      "image/png": "[encoded data removed]",
      "text/plain": [
       "<Figure size 864x360 with 2 Axes>"
      ]
     },
     "metadata": {
      "needs_background": "light"
     },
     "output_type": "display_data"
    }
   ],
   "source": [
    "# heatmap with common scale across all betas, centered at 0\n",
    "plt.subplots(figsize = (12,5))\n",
    "plt.title('Beta Difference Heatmap')\n",
    "axes = sns.heatmap(beta_change_df, cmap='YlGnBu', center=0, annot=True, linewidths=.5, fmt ='.2f')\n",
    "axes.xaxis.set_ticks_position('top')  "
   ]
  },
  {
   "cell_type": "markdown",
   "metadata": {},
   "source": [
    "## beta grouped bar chart"
   ]
  },
  {
   "cell_type": "code",
   "execution_count": 299,
   "metadata": {},
   "outputs": [
    {
     "data": {
      "text/html": [
       "<div>\n",
       "<style scoped>\n",
       "    .dataframe tbody tr th:only-of-type {\n",
       "        vertical-align: middle;\n",
       "    }\n",
       "\n",
       "    .dataframe tbody tr th {\n",
       "        vertical-align: top;\n",
       "    }\n",
       "\n",
       "    .dataframe thead th {\n",
       "        text-align: right;\n",
       "    }\n",
       "</style>\n",
       "<table border=\"1\" class=\"dataframe\">\n",
       "  <thead>\n",
       "    <tr style=\"text-align: right;\">\n",
       "      <th></th>\n",
       "      <th>AAPL</th>\n",
       "      <th>BA</th>\n",
       "    </tr>\n",
       "  </thead>\n",
       "  <tbody>\n",
       "    <tr>\n",
       "      <th>PRE</th>\n",
       "      <td>1.651042</td>\n",
       "      <td>0.685746</td>\n",
       "    </tr>\n",
       "    <tr>\n",
       "      <th>COV19</th>\n",
       "      <td>1.042480</td>\n",
       "      <td>1.746161</td>\n",
       "    </tr>\n",
       "  </tbody>\n",
       "</table>\n",
       "</div>"
      ],
      "text/plain": [
       "           AAPL        BA\n",
       "PRE    1.651042  0.685746\n",
       "COV19  1.042480  1.746161"
      ]
     },
     "execution_count": 299,
     "metadata": {},
     "output_type": "execute_result"
    }
   ],
   "source": [
    "# data preprocess for later visualization\n",
    "temp_df = pd.DataFrame()\n",
    "temp_df[\"PRE\"] = PRE_beta_df[\"SP500\"]\n",
    "temp_df[\"COV19\"] = COV19_beta_df[\"SP500\"]\n",
    "temp_df = temp_df.T\n",
    "temp_df"
   ]
  },
  {
   "cell_type": "code",
   "execution_count": 300,
   "metadata": {},
   "outputs": [],
   "source": [
    "# define the x and y for bar chart\n",
    "y_AAPL = temp_df[\"AAPL\"]\n",
    "y_BA = temp_df[\"BA\"]\n",
    "x_array = np.arange(len(y_AAPL))"
   ]
  },
  {
   "cell_type": "code",
   "execution_count": 301,
   "metadata": {},
   "outputs": [
    {
     "data": {
      "text/plain": [
       "Text(0.5, 1.0, 'Beta Value Grouped bar chart')"
      ]
     },
     "execution_count": 301,
     "metadata": {},
     "output_type": "execute_result"
    },
    {
     "data": {
      "image/png": "[encoded data removed]",
      "text/plain": [
       "<Figure size 504x360 with 1 Axes>"
      ]
     },
     "metadata": {
      "needs_background": "light"
     },
     "output_type": "display_data"
    }
   ],
   "source": [
    "# grouped bar chart about beta values\n",
    "plt.subplots(figsize = (7,5))\n",
    "Width = 0.4\n",
    "plt.bar(x_array, y_BA, width=Width, label='BA', color=\"darkcyan\")\n",
    "plt.bar(x_array + Width, y_AAPL, width=Width, label='AAPL', color='antiquewhite')\n",
    "plt.xticks([r + Width/2 for r in x_array], [\"Before COVID-19\", \"During COVID-19\"])\n",
    "plt.legend(loc=\"upper left\")\n",
    "plt.xlabel('Timeline')\n",
    "plt.ylabel('Beta Value')\n",
    "plt.title('Beta Value Grouped bar chart')"
   ]
  },
  {
   "cell_type": "markdown",
   "metadata": {},
   "source": [
    "## adjusted close line chart"
   ]
  },
  {
   "cell_type": "code",
   "execution_count": 302,
   "metadata": {},
   "outputs": [],
   "source": [
    "y_line_AAPL = pd.concat([AAPL.PRE_adjclose(), AAPL.COV19_adjclose()])\n",
    "y_line_BA = pd.concat([BA.PRE_adjclose(), BA.COV19_adjclose()])\n",
    "x_line = y_line_AAPL.index"
   ]
  },
  {
   "cell_type": "code",
   "execution_count": 303,
   "metadata": {},
   "outputs": [
    {
     "data": {
      "text/plain": [
       "<matplotlib.collections.LineCollection at 0x2be35d3b630>"
      ]
     },
     "execution_count": 303,
     "metadata": {},
     "output_type": "execute_result"
    },
    {
     "data": {
      "image/png": "[encoded data removed]",
      "text/plain": [
       "<Figure size 1008x504 with 1 Axes>"
      ]
     },
     "metadata": {
      "needs_background": "light"
     },
     "output_type": "display_data"
    }
   ],
   "source": [
    "plt.subplots(figsize = (14,7))\n",
    "plt.plot(x_line,y_line_AAPL,label='AAPL',color = 'salmon')\n",
    "plt.plot(x_line,y_line_BA,label='BA',color = 'steelblue')\n",
    "plt.legend(loc=\"upper left\")\n",
    "plt.xlabel('Trading Day')\n",
    "plt.ylabel('Adjusted Close Price')\n",
    "plt.title('Stock Adjusted Close Price Line chart')\n",
    "plt.vlines(COV19_start_trading_date,80, 400, colors = \"mediumaquamarine\", linestyles = \"dashed\")"
   ]
  }
 ],
 "metadata": {
  "kernelspec": {
   "display_name": "Python 3",
   "language": "python",
   "name": "python3"
  },
  "language_info": {
   "codemirror_mode": {
    "name": "ipython",
    "version": 3
   },
   "file_extension": ".py",
   "mimetype": "text/x-python",
   "name": "python",
   "nbconvert_exporter": "python",
   "pygments_lexer": "ipython3",
   "version": "3.7.3"
  }
 },
 "nbformat": 4,
 "nbformat_minor": 2
}
